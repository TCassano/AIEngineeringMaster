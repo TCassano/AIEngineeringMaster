{
  "nbformat": 4,
  "nbformat_minor": 0,
  "metadata": {
    "colab": {
      "provenance": [],
      "authorship_tag": "ABX9TyNeB9zMe+uiRI6HkouPJKcU",
      "include_colab_link": true
    },
    "kernelspec": {
      "name": "python3",
      "display_name": "Python 3"
    },
    "language_info": {
      "name": "python"
    }
  },
  "cells": [
    {
      "cell_type": "markdown",
      "metadata": {
        "id": "view-in-github",
        "colab_type": "text"
      },
      "source": [
        "<a href=\"https://colab.research.google.com/github/TCassano/AIEngineeringMaster/blob/main/PythonModule/Modulo_Python_esercitazioneDeepTest4_rev.ipynb\" target=\"_parent\"><img src=\"https://colab.research.google.com/assets/colab-badge.svg\" alt=\"Open In Colab\"/></a>"
      ]
    },
    {
      "cell_type": "code",
      "execution_count": 20,
      "metadata": {
        "id": "UXGbZtxd9dRk"
      },
      "outputs": [],
      "source": [
        "parole = [\"gatto\", \"cane\", \"pesce\", \"gatto\", \"cane\", \"uccello\", \"gatto\", \"cavallo\", \"cane\", \"lucertola\"]"
      ]
    },
    {
      "cell_type": "code",
      "source": [
        "counter = [[0 for _ in range(len(parole))] for _ in range(len(parole))]\n",
        "j = 0\n",
        "for parola in parole:\n",
        "  for i in range(len(parole)):\n",
        "      if parola == parole[i]:\n",
        "        counter[j][i] += 1\n",
        "\n",
        "  j+=1\n",
        "print(counter)"
      ],
      "metadata": {
        "colab": {
          "base_uri": "https://localhost:8080/"
        },
        "id": "gXHWqm-a9iQt",
        "outputId": "54ea887d-2877-4ca5-a11f-d500bc0d2738"
      },
      "execution_count": 21,
      "outputs": [
        {
          "output_type": "stream",
          "name": "stdout",
          "text": [
            "[[1, 0, 0, 1, 0, 0, 1, 0, 0, 0], [0, 1, 0, 0, 1, 0, 0, 0, 1, 0], [0, 0, 1, 0, 0, 0, 0, 0, 0, 0], [1, 0, 0, 1, 0, 0, 1, 0, 0, 0], [0, 1, 0, 0, 1, 0, 0, 0, 1, 0], [0, 0, 0, 0, 0, 1, 0, 0, 0, 0], [1, 0, 0, 1, 0, 0, 1, 0, 0, 0], [0, 0, 0, 0, 0, 0, 0, 1, 0, 0], [0, 1, 0, 0, 1, 0, 0, 0, 1, 0], [0, 0, 0, 0, 0, 0, 0, 0, 0, 1]]\n"
          ]
        }
      ]
    },
    {
      "cell_type": "code",
      "source": [
        "jj = 0\n",
        "words_dict = {}\n",
        "for parola in parole:\n",
        "    selected_counter = counter[jj]\n",
        "    second_counter = 0\n",
        "    for num in selected_counter:\n",
        "      if num == 1:\n",
        "        second_counter += 1\n",
        "    jj+=1\n",
        "    words_dict[parola] = second_counter\n",
        "\n",
        "filtered_words_dict = {word: count for word, count in words_dict.items() if count > 1}\n",
        "\n",
        "print(filtered_words_dict)\n",
        "print(f\"Sono presenti\",len(filtered_words_dict),\"parole che si ripetono\")"
      ],
      "metadata": {
        "colab": {
          "base_uri": "https://localhost:8080/"
        },
        "id": "Bvd0ok3C9jnk",
        "outputId": "65ace3e4-eded-43b4-b27f-4d67af0efcab"
      },
      "execution_count": 27,
      "outputs": [
        {
          "output_type": "stream",
          "name": "stdout",
          "text": [
            "{'gatto': 3, 'cane': 3}\n",
            "Sono presenti 2 parole che si ripetono\n"
          ]
        }
      ]
    },
    {
      "cell_type": "markdown",
      "metadata": {
        "id": "4f4500c3"
      },
      "source": [
        "Questo codice ottimizzato esegue quanto segue:\n",
        "\n",
        "1.  Inizializza un dizionario vuoto chiamato `word_counts`.\n",
        "2.  Scorre la lista `parole` una sola volta.\n",
        "3.  Per ogni parola, controlla se è già presente nel dizionario `word_counts`.\n",
        "    *   Se la parola è già presente, incrementa il suo conteggio nel dizionario.\n",
        "    *   Se la parola non è presente, la aggiunge al dizionario con un conteggio iniziale di 1.\n",
        "4.  Dopo aver contato tutte le parole, utilizza una dictionary comprehension (come quella che abbiamo discusso prima) per creare `filtered_words_dict_optimized`, includendo solo le parole il cui conteggio è maggiore di 1.\n",
        "\n",
        "Questo approccio è più efficiente perché evita la creazione e l'elaborazione della matrice, riducendo il numero di operazioni necessarie."
      ]
    },
    {
      "cell_type": "code",
      "metadata": {
        "colab": {
          "base_uri": "https://localhost:8080/"
        },
        "id": "5531185f",
        "outputId": "e367a579-824a-4134-9e71-4f1adfd18663"
      },
      "source": [
        "parole = [\"gatto\", \"cane\", \"pesce\", \"gatto\", \"cane\", \"uccello\", \"gatto\", \"cavallo\", \"cane\", \"lucertola\"]\n",
        "\n",
        "# Use a dictionary to count word occurrences\n",
        "word_counts = {}\n",
        "for parola in parole:\n",
        "    if parola in word_counts:\n",
        "        word_counts[parola] += 1\n",
        "    else:\n",
        "        word_counts[parola] = 1\n",
        "\n",
        "# Filter the dictionary to keep only items with value > 1 without dictionary comprehension\n",
        "filtered_words_dict_optimized = {}\n",
        "for word, count in word_counts.items():\n",
        "    if count > 1:\n",
        "        filtered_words_dict_optimized[word] = count\n",
        "\n",
        "print(filtered_words_dict_optimized)\n",
        "print(f\"Sono presenti\",len(filtered_words_dict_optimized),\"parole che si ripetono più di una volta\")"
      ],
      "execution_count": 29,
      "outputs": [
        {
          "output_type": "stream",
          "name": "stdout",
          "text": [
            "{'gatto': 3, 'cane': 3}\n",
            "Sono presenti 2 parole che si ripetono più di una volta\n"
          ]
        }
      ]
    },
    {
      "cell_type": "code",
      "source": [],
      "metadata": {
        "id": "VzhK5UI7Ghb8"
      },
      "execution_count": null,
      "outputs": []
    }
  ]
}