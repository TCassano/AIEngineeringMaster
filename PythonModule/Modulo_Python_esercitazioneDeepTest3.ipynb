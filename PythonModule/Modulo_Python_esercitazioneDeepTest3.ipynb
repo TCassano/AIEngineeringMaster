{
  "nbformat": 4,
  "nbformat_minor": 0,
  "metadata": {
    "colab": {
      "provenance": [],
      "authorship_tag": "ABX9TyOlcnY1EyuVpXMHb0ZIG5h7",
      "include_colab_link": true
    },
    "kernelspec": {
      "name": "python3",
      "display_name": "Python 3"
    },
    "language_info": {
      "name": "python"
    }
  },
  "cells": [
    {
      "cell_type": "markdown",
      "metadata": {
        "id": "view-in-github",
        "colab_type": "text"
      },
      "source": [
        "<a href=\"https://colab.research.google.com/github/TCassano/AIEngineeringMaster/blob/main/PythonModule/Modulo_Python_esercitazioneDeepTest3.ipynb\" target=\"_parent\"><img src=\"https://colab.research.google.com/assets/colab-badge.svg\" alt=\"Open In Colab\"/></a>"
      ]
    },
    {
      "cell_type": "code",
      "execution_count": 6,
      "metadata": {
        "id": "-ksZUT-C7hZn"
      },
      "outputs": [],
      "source": [
        "# - Mangiati crudi: mela, banana, uva, arancia\n",
        "# - Mangiati cotti: zucca, patata dolce, mela cotogna, castagna\n",
        "crudi = [\"mela\", \"banana\", \"uva\", \"arancia\"]\n",
        "cotti = [\"zucca\", \"patata dolce\", \"mela cotogna\", \"castagna\"]\n"
      ]
    },
    {
      "cell_type": "code",
      "source": [
        "frutto = input(\"Inserisci il frutto da considerare:\\t\")\n",
        "colore = input(\"Inserisci il colore da considerare:\\t\")"
      ],
      "metadata": {
        "colab": {
          "base_uri": "https://localhost:8080/"
        },
        "id": "QgtE5oX48C8l",
        "outputId": "47defeee-02ca-4406-f776-de86e5f16e16"
      },
      "execution_count": 7,
      "outputs": [
        {
          "name": "stdout",
          "output_type": "stream",
          "text": [
            "Inserisci il frutto da considerare:\tbanana\n",
            "Inserisci il colore da considerare:\tgiallo\n"
          ]
        }
      ]
    },
    {
      "cell_type": "code",
      "source": [
        "if frutto in crudi:\n",
        "  print(f\"Il frutto di colore\",colore,\"è un frutto da mangiare crudo\")\n",
        "elif frutto in cotti:\n",
        "  print(f\"Il frutto di colore\",colore,\"è un frutto da mangiare cotto\")\n",
        "else:\n",
        "  print(f\"Il frutto non è in memoria\")"
      ],
      "metadata": {
        "colab": {
          "base_uri": "https://localhost:8080/"
        },
        "id": "PwsL_GGj8VVM",
        "outputId": "c3a58a54-2cff-4816-b3a0-e1000a358275"
      },
      "execution_count": 8,
      "outputs": [
        {
          "output_type": "stream",
          "name": "stdout",
          "text": [
            "Il frutto di colore giallo è un frutto da mangiare crudo\n"
          ]
        }
      ]
    }
  ]
}