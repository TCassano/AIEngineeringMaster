{
  "nbformat": 4,
  "nbformat_minor": 0,
  "metadata": {
    "colab": {
      "provenance": [],
      "authorship_tag": "ABX9TyMnm4l/X+QVaamGiOBVMemt",
      "include_colab_link": true
    },
    "kernelspec": {
      "name": "python3",
      "display_name": "Python 3"
    },
    "language_info": {
      "name": "python"
    }
  },
  "cells": [
    {
      "cell_type": "markdown",
      "metadata": {
        "id": "view-in-github",
        "colab_type": "text"
      },
      "source": [
        "<a href=\"https://colab.research.google.com/github/TCassano/AIEngineeringMaster/blob/main/PythonModule/Modulo_Python_esercitazioneDeepTest7.ipynb\" target=\"_parent\"><img src=\"https://colab.research.google.com/assets/colab-badge.svg\" alt=\"Open In Colab\"/></a>"
      ]
    },
    {
      "cell_type": "markdown",
      "source": [
        "Scrivi un programma che permetta di gestire un semplice registro degli studenti usando un file di testo. Il programma deve:\n",
        "\n",
        "1. Chiedere all'utente l'inserimento di nomi e cognomi di studenti e il relativo voto (valore intero tra 0 e 10). Inserisci almeno 3 studenti.\n",
        "2. Salvare i dati degli studenti in un file di testo, uno studente per riga, nel formato: nome;cognome;voto\n",
        "3. Leggere nuovamente il file e stampare a schermo la lista degli studenti che hanno un voto superiore a 6.\n",
        "4. Gestire correttamente eventuali errori come inserimento di voti non validi.\n",
        "\n",
        "Non hai bisogno di utilizzare funzioni o import esterni. Puoi gestire tutto nel main del tuo script.\n",
        "\n",
        "## Esempi\n",
        "input:\n",
        "Mario Rossi 8\n",
        "Luca Bianchi 5\n",
        "Anna Verdi 9\n",
        "output:\n",
        "Studenti con voto superiore a 6:\n",
        "Mario Rossi 8\n",
        "Anna Verdi 9\n",
        "\n",
        "input:\n",
        "Emanuela Cerri 7\n",
        "Sandro Neri 4\n",
        "Lucia Azzurri 10\n",
        "output:\n",
        "Studenti con voto superiore a 6:\n",
        "Emanuela Cerri 7\n",
        "Lucia Azzurri 10"
      ],
      "metadata": {
        "id": "QzU2S_hwo7rH"
      }
    },
    {
      "cell_type": "code",
      "execution_count": 25,
      "metadata": {
        "colab": {
          "base_uri": "https://localhost:8080/"
        },
        "id": "LffumrY5mqOV",
        "outputId": "a471aabd-76af-4928-9fc4-c3f9fb5f2858"
      },
      "outputs": [
        {
          "name": "stdout",
          "output_type": "stream",
          "text": [
            "Inserisci il nome dello studente: Mario\n",
            "Inserisci il cognome dello studente: Rossi\n",
            "Inserisci la votazione dello studente: 8\n",
            "Vuoi inserire altri studenti? (s/n): s\n",
            "Inserisci il nome dello studente: Luca\n",
            "Inserisci il cognome dello studente: Bianchi\n",
            "Inserisci la votazione dello studente: 5\n",
            "Vuoi inserire altri studenti? (s/n): s\n",
            "Inserisci il nome dello studente: Anna\n",
            "Inserisci il cognome dello studente: Verdi\n",
            "Inserisci la votazione dello studente: 9\n",
            "Vuoi inserire altri studenti? (s/n): s\n",
            "Inserisci il nome dello studente: Emanuela\n",
            "Inserisci il cognome dello studente: Cerri\n",
            "Inserisci la votazione dello studente: 7\n",
            "Vuoi inserire altri studenti? (s/n): n\n"
          ]
        }
      ],
      "source": [
        "\n",
        "with open(\"studenti.txt\", \"w\") as file:\n",
        "  i = 0\n",
        "  while i != 1:\n",
        "    student_name = input(\"Inserisci il nome dello studente: \")\n",
        "    student_surname = input(\"Inserisci il cognome dello studente: \")\n",
        "    student_grade = input(\"Inserisci la votazione dello studente: \")\n",
        "    file.write(f\"{student_name};{student_surname};{student_grade}\\n\")\n",
        "    to_continue = input(\"Vuoi inserire altri studenti? (s/n): \")\n",
        "    if to_continue == \"n\":\n",
        "      i = 1\n",
        "\n",
        "\n"
      ]
    },
    {
      "cell_type": "code",
      "source": [
        "with open(\"studenti.txt\", \"r\") as file:\n",
        "  lines = file.readlines()\n",
        "  num_lines = len(lines)\n",
        "\n",
        "students_data = [0 for _ in range(num_lines)]\n",
        "ii=0\n",
        "with open(\"studenti.txt\", \"r\") as file:\n",
        "  for line in file:\n",
        "    students_data[ii] = line.strip().split(\";\")\n",
        "    student_data = line.strip().split(\";\")\n",
        "    if int(student_data[2]) > 6:\n",
        "      print(f\"Nome: {student_data[0]}, Cognome: {student_data[1]}, Voto: {student_data[2]}\")\n",
        "    ii+=1"
      ],
      "metadata": {
        "colab": {
          "base_uri": "https://localhost:8080/"
        },
        "id": "VSFv4zPYqnY4",
        "outputId": "74349280-ff4c-4ae6-b827-d2721578339a"
      },
      "execution_count": 26,
      "outputs": [
        {
          "output_type": "stream",
          "name": "stdout",
          "text": [
            "Nome: Mario, Cognome: Rossi, Voto: 8\n",
            "Nome: Anna, Cognome: Verdi, Voto: 9\n",
            "Nome: Emanuela, Cognome: Cerri, Voto: 7\n"
          ]
        }
      ]
    },
    {
      "cell_type": "code",
      "source": [
        "students_data"
      ],
      "metadata": {
        "colab": {
          "base_uri": "https://localhost:8080/"
        },
        "id": "OqL8onoxr70m",
        "outputId": "336b2bfc-1e8a-4ad0-8d78-92039c7e0a0c"
      },
      "execution_count": 27,
      "outputs": [
        {
          "output_type": "execute_result",
          "data": {
            "text/plain": [
              "[['Mario', 'Rossi', '8'],\n",
              " ['Luca', 'Bianchi', '5'],\n",
              " ['Anna', 'Verdi', '9'],\n",
              " ['Emanuela', 'Cerri', '7']]"
            ]
          },
          "metadata": {},
          "execution_count": 27
        }
      ]
    }
  ]
}