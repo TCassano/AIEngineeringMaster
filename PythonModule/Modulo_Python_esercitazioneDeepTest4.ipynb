{
  "nbformat": 4,
  "nbformat_minor": 0,
  "metadata": {
    "colab": {
      "provenance": [],
      "authorship_tag": "ABX9TyN9gpGaqeGT0xkWePxxC6IW",
      "include_colab_link": true
    },
    "kernelspec": {
      "name": "python3",
      "display_name": "Python 3"
    },
    "language_info": {
      "name": "python"
    }
  },
  "cells": [
    {
      "cell_type": "markdown",
      "metadata": {
        "id": "view-in-github",
        "colab_type": "text"
      },
      "source": [
        "<a href=\"https://colab.research.google.com/github/TCassano/AIEngineeringMaster/blob/main/PythonModule/Modulo_Python_esercitazioneDeepTest4.ipynb\" target=\"_parent\"><img src=\"https://colab.research.google.com/assets/colab-badge.svg\" alt=\"Open In Colab\"/></a>"
      ]
    },
    {
      "cell_type": "code",
      "execution_count": 20,
      "metadata": {
        "id": "UXGbZtxd9dRk"
      },
      "outputs": [],
      "source": [
        "parole = [\"gatto\", \"cane\", \"pesce\", \"gatto\", \"cane\", \"uccello\", \"gatto\", \"cavallo\", \"cane\", \"lucertola\"]"
      ]
    },
    {
      "cell_type": "code",
      "source": [
        "counter = [[0 for _ in range(len(parole))] for _ in range(len(parole))]\n",
        "j = 0\n",
        "for parola in parole:\n",
        "  for i in range(len(parole)):\n",
        "      if parola == parole[i]:\n",
        "        counter[j][i] += 1\n",
        "\n",
        "  j+=1\n",
        "print(counter)"
      ],
      "metadata": {
        "colab": {
          "base_uri": "https://localhost:8080/"
        },
        "id": "gXHWqm-a9iQt",
        "outputId": "54ea887d-2877-4ca5-a11f-d500bc0d2738"
      },
      "execution_count": 21,
      "outputs": [
        {
          "output_type": "stream",
          "name": "stdout",
          "text": [
            "[[1, 0, 0, 1, 0, 0, 1, 0, 0, 0], [0, 1, 0, 0, 1, 0, 0, 0, 1, 0], [0, 0, 1, 0, 0, 0, 0, 0, 0, 0], [1, 0, 0, 1, 0, 0, 1, 0, 0, 0], [0, 1, 0, 0, 1, 0, 0, 0, 1, 0], [0, 0, 0, 0, 0, 1, 0, 0, 0, 0], [1, 0, 0, 1, 0, 0, 1, 0, 0, 0], [0, 0, 0, 0, 0, 0, 0, 1, 0, 0], [0, 1, 0, 0, 1, 0, 0, 0, 1, 0], [0, 0, 0, 0, 0, 0, 0, 0, 0, 1]]\n"
          ]
        }
      ]
    },
    {
      "cell_type": "code",
      "source": [
        "jj = 0\n",
        "words_dict = {}\n",
        "for parola in parole:\n",
        "    selected_counter = counter[jj]\n",
        "    second_counter = 0\n",
        "    for num in selected_counter:\n",
        "      if num == 1:\n",
        "        second_counter += 1\n",
        "    jj+=1\n",
        "    words_dict[parola] = second_counter\n",
        "\n",
        "filtered_words_dict = {word: count for word, count in words_dict.items() if count > 1}\n",
        "\n",
        "print(filtered_words_dict)\n",
        "print(f\"Sono presenti\",len(filtered_words_dict),\"parole che si ripetono\")"
      ],
      "metadata": {
        "colab": {
          "base_uri": "https://localhost:8080/"
        },
        "id": "Bvd0ok3C9jnk",
        "outputId": "65ace3e4-eded-43b4-b27f-4d67af0efcab"
      },
      "execution_count": 27,
      "outputs": [
        {
          "output_type": "stream",
          "name": "stdout",
          "text": [
            "{'gatto': 3, 'cane': 3}\n",
            "Sono presenti 2 parole che si ripetono\n"
          ]
        }
      ]
    },
    {
      "cell_type": "code",
      "source": [],
      "metadata": {
        "id": "VzhK5UI7Ghb8"
      },
      "execution_count": null,
      "outputs": []
    }
  ]
}