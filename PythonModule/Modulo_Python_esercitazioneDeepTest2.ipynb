{
  "nbformat": 4,
  "nbformat_minor": 0,
  "metadata": {
    "colab": {
      "provenance": [],
      "authorship_tag": "ABX9TyOSQFCZh/BRDQDaByH2XM5E",
      "include_colab_link": true
    },
    "kernelspec": {
      "name": "python3",
      "display_name": "Python 3"
    },
    "language_info": {
      "name": "python"
    }
  },
  "cells": [
    {
      "cell_type": "markdown",
      "metadata": {
        "id": "view-in-github",
        "colab_type": "text"
      },
      "source": [
        "<a href=\"https://colab.research.google.com/github/TCassano/AIEngineeringMaster/blob/main/PythonModule/Modulo_Python_esercitazioneDeepTest2.ipynb\" target=\"_parent\"><img src=\"https://colab.research.google.com/assets/colab-badge.svg\" alt=\"Open In Colab\"/></a>"
      ]
    },
    {
      "cell_type": "code",
      "execution_count": 81,
      "metadata": {
        "id": "VROIOuPCRsUc"
      },
      "outputs": [],
      "source": [
        "giocattolo1 = 'Treno'\n",
        "giocattolo2 = 'Palla'\n",
        "giocattolo3 = 'Cubo'\n",
        "giocattolo4 = 'Treno'\n",
        "giocattolo5 = 'Aeroplano'"
      ]
    },
    {
      "cell_type": "code",
      "source": [
        "toys_list = []\n",
        "toys_list.append(giocattolo1)\n",
        "toys_list.append(giocattolo2)\n",
        "toys_list.append(giocattolo3)\n",
        "toys_list.append(giocattolo4)\n",
        "toys_list.append(giocattolo5)\n",
        "len_toys_list = len(toys_list)"
      ],
      "metadata": {
        "id": "5NnapDM8WCM-"
      },
      "execution_count": 82,
      "outputs": []
    },
    {
      "cell_type": "code",
      "source": [
        "toys_dict = {}\n",
        "toys_dict[giocattolo1] = toys_list.count(giocattolo1)\n",
        "toys_dict[giocattolo2] = toys_list.count(giocattolo2)\n",
        "toys_dict[giocattolo3] = toys_list.count(giocattolo3)\n",
        "toys_dict[giocattolo4] = toys_list.count(giocattolo4)\n",
        "toys_dict[giocattolo5] = toys_list.count(giocattolo5)"
      ],
      "metadata": {
        "id": "muU3Sj7rUMBW"
      },
      "execution_count": 83,
      "outputs": []
    },
    {
      "cell_type": "code",
      "source": [
        "len_toys_dict = len(toys_dict)\n"
      ],
      "metadata": {
        "id": "ZSfipq8IUaht"
      },
      "execution_count": 84,
      "outputs": []
    },
    {
      "cell_type": "code",
      "source": [
        "print(f\"Numero Totale di Giocattoli: {len_toys_list}\")\n",
        "print(f\"Primo Giocattolo: {toys_list[0]}\")\n",
        "print(f\"Ultimo Giocattolo: {toys_list[-1]}\")\n",
        "print(f\"Giocattoli senza ripetizioni: {list(toys_dict.keys())}\")"
      ],
      "metadata": {
        "colab": {
          "base_uri": "https://localhost:8080/"
        },
        "id": "XFfmYwWsSSmu",
        "outputId": "85b421c4-01a9-4502-a6f1-77b8e29803bf"
      },
      "execution_count": 86,
      "outputs": [
        {
          "output_type": "stream",
          "name": "stdout",
          "text": [
            "Numero Totale di Giocattoli: 5\n",
            "Primo Giocattolo: Treno\n",
            "Ultimo Giocattolo: Aeroplano\n",
            "Giocattoli senza ripetizioni: ['Treno', 'Palla', 'Cubo', 'Aeroplano']\n"
          ]
        }
      ]
    },
    {
      "cell_type": "code",
      "source": [],
      "metadata": {
        "id": "KO006SbyShmt"
      },
      "execution_count": 85,
      "outputs": []
    }
  ]
}