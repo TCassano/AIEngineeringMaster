{
  "nbformat": 4,
  "nbformat_minor": 0,
  "metadata": {
    "colab": {
      "provenance": [],
      "authorship_tag": "ABX9TyNz5rUUVQwTQ46ysxXk8pdw",
      "include_colab_link": true
    },
    "kernelspec": {
      "name": "python3",
      "display_name": "Python 3"
    },
    "language_info": {
      "name": "python"
    }
  },
  "cells": [
    {
      "cell_type": "markdown",
      "metadata": {
        "id": "view-in-github",
        "colab_type": "text"
      },
      "source": [
        "<a href=\"https://colab.research.google.com/github/TCassano/AIEngineeringMaster/blob/main/PythonModule/progetto_corso_1.ipynb\" target=\"_parent\"><img src=\"https://colab.research.google.com/assets/colab-badge.svg\" alt=\"Open In Colab\"/></a>"
      ]
    },
    {
      "cell_type": "code",
      "execution_count": 53,
      "metadata": {
        "id": "fSEr_4_6Xxrt"
      },
      "outputs": [],
      "source": [
        "import pandas as pd\n",
        "import os"
      ]
    },
    {
      "cell_type": "code",
      "source": [
        "import pandas as pd\n",
        "import os\n",
        "\n",
        "class Rubrica():\n",
        "    # definisco il costruttore di default\n",
        "    def __init__(self,nome=None,cognome=None,telefono=None):\n",
        "        self.nome=nome\n",
        "        self.cognome=cognome\n",
        "        self.telefono=telefono\n",
        "\n",
        "    def __open_json__(self):\n",
        "        if \"rubrica.json\" not in os.listdir():\n",
        "            df=pd.DataFrame(columns=['nome','cognome','telefono'])\n",
        "            df.to_json('rubrica.json')\n",
        "            df=pd.read_json('rubrica.json')\n",
        "        else:\n",
        "            df=pd.read_json('rubrica.json')\n",
        "        return df\n",
        "    def __save_json__(self,df):\n",
        "        df.to_json('rubrica.json')\n",
        "    def aggiungi_contatto(self):\n",
        "      \"\"\"\n",
        "      aggiunge un contatto alla rubrica.\n",
        "      - df è il dataframe della rubrica\n",
        "      - nome è il nome del contatto\n",
        "      - cognome è il cognome del contatto\n",
        "      - telefono è il numero di telefono del contatto\n",
        "      \"\"\"\n",
        "      df=self.__open_json__()\n",
        "      new_contact = pd.DataFrame([{'nome':self.nome,'cognome':self.cognome,'telefono':self.telefono}])\n",
        "      df = pd.concat([df, new_contact], ignore_index=True)\n",
        "      self.__save_json__(df)\n",
        "\n",
        "    def cerca_contatto(self,nome,cognome):\n",
        "        \"\"\"\n",
        "        cerca un contatto nella rubrica.\n",
        "        - df è il dataframe della rubrica\n",
        "        - nome è il nome del contatto\n",
        "        - cognome è il cognome del contatto,\n",
        "        Bisogna essere attenti all'input, perchè la ricerca può avvenire per nome o per cognome\"\"\"\n",
        "        df=self.__open_json__()\n",
        "        df=df[(df['nome']==nome) & (df['cognome']==cognome)]\n",
        "        if df.empty:\n",
        "            print(\"Nessun contatto trovato\")\n",
        "        elif df.shape[0]>2:\n",
        "            print(\"Più di un contatto trovato\")\n",
        "        else:\n",
        "            print(df)\n",
        "        return df\n",
        "\n",
        "\n",
        "    def elimina_contatto(self,nome,cognome):\n",
        "        \"\"\"\n",
        "        elimina un contatto dalla rubrica.\n",
        "        - df è il dataframe della rubrica\n",
        "        - nome è il nome del contatto\n",
        "        - cognome è il cognome del contatto\n",
        "        Bisogna fare\n",
        "        \"\"\"\n",
        "\n",
        "        df=self.__open_json__()\n",
        "        df=df[(df['nome']!=nome) & (df['cognome']!=cognome)]\n",
        "        self.__save_json__(df)\n",
        "\n",
        "\n",
        "    def modifica_contatto(self,nome,cognome):\n",
        "      \"\"\"\n",
        "      modifica un contatto nella rubrica.\n",
        "      - df è il dataframe della rubrica\n",
        "      - nome è il nome del contatto\n",
        "      - cognome è il cognome del contatto\n",
        "      - telefono è il nuovo numero di telefono del contatto\n",
        "      \"\"\"\n",
        "      df=self.__open_json__()\n",
        "      df=df[(df['nome']!=nome) & (df['cognome']!=cognome)]\n",
        "      df = df.append({'nome':self.nome,'cognome':self.cognome,'telefono':self.telefono},ignore_index=True)\n",
        "      self.__save_json__(df)\n",
        "      return df\n",
        "    def visualizza_tutti_contatti(self):\n",
        "        \"\"\"\n",
        "        visualizza tutti i contatti della rubrica.\n",
        "        - df è il dataframe della rubrica\n",
        "        \"\"\"\n",
        "        df=self.__open_json__()\n",
        "        print(df)\n",
        "        return df"
      ],
      "metadata": {
        "id": "6x9K0klkaHZo"
      },
      "execution_count": 54,
      "outputs": []
    },
    {
      "cell_type": "code",
      "source": [
        "azione=input(\"Definisci che azione Vuoi fare.\\n+: Aggiungi un contatto\\nV: visualizza tutti i contatti\\nM: modifica un contatto\\nC: cerca un contatto\\n-: elimina un contatto\\n\")\n",
        "rubrica = Rubrica()\n",
        "if azione==\"+\":\n",
        "    nome=input(\"Inserisci il nome del contatto: \")\n",
        "    cognome=input(\"Inserisci il cognome del contatto: \")\n",
        "    telefono=input(\"Inserisci il numero di telefono del contatto: \")\n",
        "    rubrica.nome=nome\n",
        "    rubrica.cognome=cognome\n",
        "    rubrica.telefono=telefono\n",
        "    rubrica.aggiungi_contatto()\n",
        "elif azione==\"V\":\n",
        "    rubrica.visualizza_tutti_contatti()\n",
        "\n",
        "elif azione==\"M\":\n",
        "    nome=input(\"Inserisci il nome del contatto: \")\n",
        "    cognome=input(\"Inserisci il cognome del contatto: \")\n",
        "    telefono=input(\"Inserisci il numero di telefono del contatto: \")\n",
        "    rubrica.nome=nome\n",
        "    rubrica.cognome=cognome\n",
        "    rubrica.telefono=telefono\n",
        "    rubrica.modifica_contatto()\n",
        "elif azione==\"C\":\n",
        "    nome=input(\"Inserisci il nome del contatto: \")\n",
        "    cognome=input(\"Inserisci il cognome del contatto: \")\n",
        "    rubrica.cerca_contatto(nome,cognome)\n",
        "elif azione==\"-\":\n",
        "    nome=input(\"Inserisci il nome del contatto: \")\n",
        "    cognome=input(\"Inserisci il cognome del contatto: \")\n",
        "    rubrica.elimina_contatto(nome,cognome)"
      ],
      "metadata": {
        "colab": {
          "base_uri": "https://localhost:8080/"
        },
        "id": "PHY4NP_DfcnQ",
        "outputId": "b0119ee9-9856-4f0d-cb15-2f0da809b15f"
      },
      "execution_count": 55,
      "outputs": [
        {
          "output_type": "stream",
          "name": "stdout",
          "text": [
            "Definisci che azione Vuoi fare.\n",
            "+: Aggiungi un contatto\n",
            "V: visualizza tutti i contatti\n",
            "M: modifica un contatto\n",
            "C: cerca un contatto\n",
            "-: elimina un contatto\n",
            "C\n",
            "Inserisci il nome del contatto: Nico\n",
            "Inserisci il cognome del contatto: Cassano\n",
            "   nome  cognome  telefono\n",
            "1  Nico  Cassano       380\n"
          ]
        }
      ]
    }
  ]
}