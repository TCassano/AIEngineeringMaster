{
  "nbformat": 4,
  "nbformat_minor": 0,
  "metadata": {
    "colab": {
      "provenance": [],
      "authorship_tag": "ABX9TyPUOrbYxDrk8KS807wPi93C",
      "include_colab_link": true
    },
    "kernelspec": {
      "name": "python3",
      "display_name": "Python 3"
    },
    "language_info": {
      "name": "python"
    }
  },
  "cells": [
    {
      "cell_type": "markdown",
      "metadata": {
        "id": "view-in-github",
        "colab_type": "text"
      },
      "source": [
        "<a href=\"https://colab.research.google.com/github/TCassano/AIEngineeringMaster/blob/main/PythonModule/Modulo_Python_esercitazioneDeepTest.ipynb\" target=\"_parent\"><img src=\"https://colab.research.google.com/assets/colab-badge.svg\" alt=\"Open In Colab\"/></a>"
      ]
    },
    {
      "cell_type": "markdown",
      "source": [
        "Gestione Inventario personale"
      ],
      "metadata": {
        "id": "b00ed9x9IpC0"
      }
    },
    {
      "cell_type": "code",
      "execution_count": 23,
      "metadata": {
        "colab": {
          "base_uri": "https://localhost:8080/"
        },
        "id": "DCnHR8dZIbHM",
        "outputId": "3574ecf9-a469-4be8-e202-d03f0be5524b"
      },
      "outputs": [
        {
          "name": "stdout",
          "output_type": "stream",
          "text": [
            "Inserisci il nome dell'oggetto \tCubo\n",
            "Inserisci la quantità dell'oggetto (numero di unità) \t12\n",
            "Inserisci il prezzo dell'oggetto per unità (Euro) \t15.99\n",
            "Altri oggetti? (1->Si)(0->No) \t1\n",
            "Inserisci il nome dell'oggetto \tTriangolo\n",
            "Inserisci la quantità dell'oggetto (numero di unità) \t16\n",
            "Inserisci il prezzo dell'oggetto per unità (Euro) \t12.99\n",
            "Altri oggetti? (1->Si)(0->No) \t1\n",
            "Inserisci il nome dell'oggetto \tRombo\n",
            "Inserisci la quantità dell'oggetto (numero di unità) \t17\n",
            "Inserisci il prezzo dell'oggetto per unità (Euro) \t13.99\n",
            "Altri oggetti? (1->Si)(0->No) \t1\n",
            "Inserisci il nome dell'oggetto \tCubo\n",
            "Inserisci la quantità dell'oggetto (numero di unità) \t12\n",
            "Inserisci il prezzo dell'oggetto per unità (Euro) \t15.99\n",
            "Altri oggetti? (1->Si)(0->No) \t0\n"
          ]
        }
      ],
      "source": [
        "i=0\n",
        "invariant_set = {}\n",
        "while i == 0:\n",
        "  name = input(\"Inserisci il nome dell'oggetto \\t\")\n",
        "  quantity = int(input(\"Inserisci la quantità dell'oggetto (numero di unità) \\t\"))\n",
        "  price = float(input(\"Inserisci il prezzo dell'oggetto per unità (Euro) \\t\"))\n",
        "  if name in invariant_set:\n",
        "    invariant_set[name][\"quantity\"]+=quantity\n",
        "    invariant_set[name][\"price\"]=price #\n",
        "  else:\n",
        "    invariant_set[name]={\"quantity\":quantity,\"price\":price}\n",
        "\n",
        "  to_continue = int(input(\"Altri oggetti? (1->Si)(0->No) \\t\"))\n",
        "  if to_continue!=0 and to_continue!=1:\n",
        "    raise Exception(\"Input non valido\")\n",
        "  if to_continue == 0:\n",
        "    i=1\n"
      ]
    },
    {
      "cell_type": "code",
      "source": [
        "print(\"\\nInventario Finale:\")\n",
        "for name in invariant_set:\n",
        "  print(\"Oggetto:\", name,\"\\t Quantità:\",invariant_set[name][\"quantity\"],\"\\t Costo Totale:\",invariant_set[name][\"price\"]*float(invariant_set[name][\"quantity\"]))"
      ],
      "metadata": {
        "colab": {
          "base_uri": "https://localhost:8080/"
        },
        "id": "muijhnlgK2t1",
        "outputId": "d108b8fa-10ae-4246-9309-0ea7da260244"
      },
      "execution_count": 24,
      "outputs": [
        {
          "output_type": "stream",
          "name": "stdout",
          "text": [
            "\n",
            "Inventario Finale:\n",
            "Oggetto: Cubo \t Quantità: 24 \t Costo Totale: 383.76\n",
            "Oggetto: Triangolo \t Quantità: 16 \t Costo Totale: 207.84\n",
            "Oggetto: Rombo \t Quantità: 17 \t Costo Totale: 237.83\n"
          ]
        }
      ]
    }
  ]
}