{
  "nbformat": 4,
  "nbformat_minor": 0,
  "metadata": {
    "colab": {
      "provenance": [],
      "authorship_tag": "ABX9TyOXd8N01HIjQfWr9O0jvJTZ",
      "include_colab_link": true
    },
    "kernelspec": {
      "name": "python3",
      "display_name": "Python 3"
    },
    "language_info": {
      "name": "python"
    }
  },
  "cells": [
    {
      "cell_type": "markdown",
      "metadata": {
        "id": "view-in-github",
        "colab_type": "text"
      },
      "source": [
        "<a href=\"https://colab.research.google.com/github/TCassano/AIEngineeringMaster/blob/main/PythonModule/Modulo_Python_esercitazioneDeepTest5.ipynb\" target=\"_parent\"><img src=\"https://colab.research.google.com/assets/colab-badge.svg\" alt=\"Open In Colab\"/></a>"
      ]
    },
    {
      "cell_type": "markdown",
      "source": [
        "## Traccia\n",
        "1. Definire una classe Libro che abbia almeno i seguenti attributi: titolo, autore, anno_di_pubblicazione, genere.\n",
        "2. Definire un metodo __str__ per la classe Libro che restituisca una stringa leggibile che rappresenti il libro (ad esempio: 'Orgoglio e Pregiudizio di Jane Austen (1813), Genere: Romanzo').\n",
        "3. Definire una classe Libreria che contenga una lista di oggetti Libro.\n",
        "4. Implementare nei metodi della classe Libreria le seguenti funzionalità:\n",
        "  a. aggiungi_libro(libro): aggiunge un oggetto Libro alla collezione.\n",
        "  b. rimuovi_libro_per_titolo(titolo): rimuove dalla collezione tutti i libri che hanno un certo titolo.\n",
        "  c. cerca_per_autore(autore): restituisce la lista dei libri dell'autore specificato.\n",
        "  d. mostra_tutti(): stampa tutti i libri presenti nella libreria.\n",
        "\n",
        "NON usare funzionalità di librerie esterne o funzioni non ancora affrontate nello studio (come input da file, try/except, ecc). Tutto l'input/output deve essere gestito tramite parametri e stampe standard.\n",
        "\n",
        "## Esempi\n",
        "input:\n",
        "l1 = Libro('1984', 'George Orwell', 1949, 'Distopico')\n",
        "l2 = Libro('Orgoglio e Pregiudizio', 'Jane Austen', 1813, 'Romanzo')\n",
        "l3 = Libro('Animal Farm', 'George Orwell', 1945, 'Satira')\n",
        "libreria = Libreria()\n",
        "libreria.aggiungi_libro(l1)\n",
        "libreria.aggiungi_libro(l2)\n",
        "libreria.aggiungi_libro(l3)\n",
        "libreria.mostra_tutti()\n",
        "\n",
        "output:\n",
        "1984 di George Orwell (1949), Genere: Distopico\n",
        "Orgoglio e Pregiudizio di Jane Austen (1813), Genere: Romanzo\n",
        "Animal Farm di George Orwell (1945), Genere: Satira\n",
        "\n",
        "input:\n",
        "libreria.cerca_per_autore('George Orwell')\n",
        "\n",
        "output:\n",
        "1984 di George Orwell (1949), Genere: Distopico\n",
        "Animal Farm di George Orwell (1945), Genere: Satira\n",
        "\n",
        "input:\n",
        "libreria.rimuovi_libro_per_titolo('1984')\n",
        "libreria.mostra_tutti()\n",
        "\n",
        "output:\n",
        "Orgoglio e Pregiudizio di Jane Austen (1813), Genere: Romanzo\n",
        "Animal Farm di George Orwell (1945), Genere: Satira"
      ],
      "metadata": {
        "id": "aelYwomCylp3"
      }
    },
    {
      "cell_type": "code",
      "execution_count": null,
      "metadata": {
        "id": "d0bNpVOcyLj7"
      },
      "outputs": [],
      "source": [
        "class Libro:\n",
        "  def __init__(self, titolo, autore, anno_di_pubblicazione, genere):\n",
        "    self.titolo = titolo\n",
        "    self.autore = autore\n",
        "    self.anno_di_pubblicazione = anno_di_pubblicazione\n",
        "    self.genere = genere\n",
        "  def __str__(self):\n",
        "    return f\"{self.titolo} di {self.autore} ({self.anno_di_pubblicazione}), genere: {self.genere}\"\n",
        "class Libreria:\n",
        "  def __init__(self):\n",
        "    self.libri = []\n",
        "  def aggiungi_libro(self, libro):\n",
        "    self.libri.append(libro)\n",
        "  def rimuovi_libro_per_titolo(self, titolo):\n",
        "    self.libri = [libro for libro in self.libri if libro.titolo != titolo]\n",
        "  def mostra_tutti(self):\n",
        "    for libro in self.libri:\n",
        "      print(libro)\n",
        "  def cerca_per_autore(self, autore):\n",
        "    libri_cercati = [libro for libro in self.libri if libro.autore == autore]\n",
        "    if libri_cercati:\n",
        "      for libro in libri_cercati:\n",
        "        print(libro)"
      ]
    },
    {
      "cell_type": "code",
      "source": [
        "l1 = Libro('1984', 'George Orwell', 1949, 'Distopico')\n",
        "l2 = Libro('Orgoglio e Pregiudizio', 'Jane Austen', 1813, 'Romanzo')\n",
        "l3 = Libro('Animal Farm', 'George Orwell', 1945, 'Satira')"
      ],
      "metadata": {
        "id": "2qeEgOei0UDf"
      },
      "execution_count": null,
      "outputs": []
    },
    {
      "cell_type": "code",
      "source": [
        "libreria = Libreria()\n",
        "libreria.aggiungi_libro(l1)\n",
        "libreria.aggiungi_libro(l2)\n",
        "libreria.aggiungi_libro(l3)\n",
        "libreria.mostra_tutti()"
      ],
      "metadata": {
        "colab": {
          "base_uri": "https://localhost:8080/"
        },
        "id": "mG_FkMB20gu2",
        "outputId": "4706e27e-cd10-47a1-d2da-570f6fdee5d6"
      },
      "execution_count": null,
      "outputs": [
        {
          "output_type": "stream",
          "name": "stdout",
          "text": [
            "1984 di George Orwell (1949), genere: Distopico\n",
            "Orgoglio e Pregiudizio di Jane Austen (1813), genere: Romanzo\n",
            "Animal Farm di George Orwell (1945), genere: Satira\n"
          ]
        }
      ]
    },
    {
      "cell_type": "code",
      "source": [
        "libreria.cerca_per_autore('George Orwell')"
      ],
      "metadata": {
        "colab": {
          "base_uri": "https://localhost:8080/"
        },
        "id": "nA9mYptl1Gf-",
        "outputId": "ef78a5b1-2759-49d1-cac9-938af4ec5873"
      },
      "execution_count": null,
      "outputs": [
        {
          "output_type": "stream",
          "name": "stdout",
          "text": [
            "1984 di George Orwell (1949), genere: Distopico\n",
            "Animal Farm di George Orwell (1945), genere: Satira\n"
          ]
        }
      ]
    }
  ]
}