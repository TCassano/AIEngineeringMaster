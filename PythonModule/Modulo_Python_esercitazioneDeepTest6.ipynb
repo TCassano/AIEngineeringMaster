{
  "nbformat": 4,
  "nbformat_minor": 0,
  "metadata": {
    "colab": {
      "provenance": [],
      "authorship_tag": "ABX9TyP5GRGvQI9d/OEtkUOadUwT",
      "include_colab_link": true
    },
    "kernelspec": {
      "name": "python3",
      "display_name": "Python 3"
    },
    "language_info": {
      "name": "python"
    }
  },
  "cells": [
    {
      "cell_type": "markdown",
      "metadata": {
        "id": "view-in-github",
        "colab_type": "text"
      },
      "source": [
        "<a href=\"https://colab.research.google.com/github/TCassano/AIEngineeringMaster/blob/main/PythonModule/Modulo_Python_esercitazioneDeepTest6.ipynb\" target=\"_parent\"><img src=\"https://colab.research.google.com/assets/colab-badge.svg\" alt=\"Open In Colab\"/></a>"
      ]
    },
    {
      "cell_type": "markdown",
      "source": [
        "## Traccia\n",
        "\n",
        "Immagina di dover gestire uno zoo magico in cui sono presenti animali fantastici: Draghi, Unicorni e Fenici. Ogni tipo di animale deve essere rappresentato da una classe (Drago, Unicorno, Fenice), tutte ereditate da una classe base AnimaleFantastico. Ogni animale ha un nome e un'età.\n",
        "\n",
        "Allo zoo arrivano visitatori che chiedono di vedere un tipo specifico di animale. Dovrai scrivere una funzione che, dato il tipo di animale richiesto e il suo nome, restituisca l'animale se presente, altrimenti gestisca l'eccezione sollevando un'eccezione personalizzata di tipo AnimaleNonTrovato, stampando un messaggio utile. Infine, la funzione dovrà stampare sempre (a prescindere dal risultato): \"Visita conclusa.\".\n",
        "\n",
        "Requisiti:\n",
        "1. Crea la classe base AnimaleFantastico e le tre classi derivate Drago, Unicorno, Fenice.\n",
        "2. Crea una collezione di almeno un animale per tipo.\n",
        "3. Crea l'eccezione personalizzata AnimaleNonTrovato che riceva il nome dell'animale richiesto e il tipo.\n",
        "4. Implementa la logica di ricerca e la gestione dell'eccezione dentro una funzione visita_animale(tipo, nome).\n",
        "5. Usa le istruzioni condizionali e/o i cicli per gestire la ricerca degli animali nella collezione.\n",
        "6. Usa un blocco try/except/finally per la gestione delle eccezioni.\n",
        "7. Esegui alcuni test, mostrando il comportamento atteso sia in caso di successo che di fallimento.\n",
        "\n",
        "## Esempi\n",
        "input:\n",
        "visita_animale('Drago', 'Norberto')\n",
        "output:\n",
        "Hai trovato un Drago di nome Norberto, età 2 anni.\n",
        "Visita conclusa.\n",
        "\n",
        "input:\n",
        "visita_animale('Unicorno', 'Biancospino')\n",
        "output:\n",
        "Hai trovato un Unicorno di nome Biancospino, età 5 anni.\n",
        "Visita conclusa.\n",
        "\n",
        "input:\n",
        "visita_animale('Fenice', 'Fawkes')\n",
        "output:\n",
        "Hai trovato una Fenice di nome Fawkes, età 50 anni.\n",
        "Visita conclusa.\n",
        "\n",
        "input:\n",
        "visita_animale('Drago', 'Smaug')\n",
        "output:\n",
        "AnimaleNonTrovato: Nessun Drago di nome Smaug trovato nello zoo!\n",
        "Visita conclusa."
      ],
      "metadata": {
        "id": "Q7gf3eVJfh6V"
      }
    },
    {
      "cell_type": "code",
      "execution_count": null,
      "metadata": {
        "id": "cEa7gkZnfTTG"
      },
      "outputs": [],
      "source": []
    }
  ]
}